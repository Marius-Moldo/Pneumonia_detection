{
  "cells": [
    {
      "cell_type": "code",
      "execution_count": null,
      "metadata": {
        "id": "1K2yjhsxi0Q3"
      },
      "outputs": [],
      "source": [
        "try:\n",
        "  import torchinfo\n",
        "except:\n",
        "  !pip install torchinfo\n",
        "  import torchinfo\n",
        "\n",
        "try:\n",
        "  import torchmetrics\n",
        "except:\n",
        "  !pip install torchmetrics\n",
        "  from torchmetrics import ConfusionMatrix\n"
      ]
    },
    {
      "cell_type": "code",
      "execution_count": null,
      "metadata": {
        "colab": {
          "base_uri": "https://localhost:8080/"
        },
        "id": "rKQP4z7lTIbZ",
        "outputId": "482cf77e-1804-4fda-990b-fd8ee06e81c9"
      },
      "outputs": [
        {
          "output_type": "stream",
          "name": "stdout",
          "text": [
            "Drive already mounted at /content/drive; to attempt to forcibly remount, call drive.mount(\"/content/drive\", force_remount=True).\n",
            "already downloaded\n"
          ]
        }
      ],
      "source": [
        "import os\n",
        "import shutil\n",
        "\n",
        "from google.colab import drive\n",
        "\n",
        "drive.mount('/content/drive')\n",
        "\n",
        "def copy_files_recursive(source_folder, destination_folder):\n",
        "    for root, dirs, files in os.walk(source_folder):\n",
        "        for file in files:\n",
        "            source_path = os.path.join(root, file)\n",
        "            destination_path = os.path.join(destination_folder, os.path.relpath(source_path, source_folder))\n",
        "\n",
        "            # Create destination directories if they don't exist\n",
        "            os.makedirs(os.path.dirname(destination_path), exist_ok=True)\n",
        "\n",
        "            shutil.copyfile(source_path, destination_path)\n",
        "\n",
        "source_folder = '/content/drive/MyDrive/chest_xray'\n",
        "destination_folder = '/content/chest_xray'\n",
        "if not os.path.isdir(destination_folder):\n",
        "  copy_files_recursive(source_folder, destination_folder)\n",
        "else:\n",
        "  print(\"already downloaded\")"
      ]
    },
    {
      "cell_type": "code",
      "execution_count": null,
      "metadata": {
        "colab": {
          "base_uri": "https://localhost:8080/"
        },
        "id": "KjJwFSQTkqj7",
        "outputId": "b3928de1-d00d-497d-ec2c-b45959688e5d"
      },
      "outputs": [
        {
          "output_type": "stream",
          "name": "stdout",
          "text": [
            "/content/chest_xray/test\n"
          ]
        }
      ],
      "source": [
        "import torch\n",
        "import torch.nn as nn\n",
        "import torchvision\n",
        "import torchvision.transforms as transforms\n",
        "from torch.utils.data import DataLoader\n",
        "import matplotlib.pyplot as plt\n",
        "import zipfile\n",
        "import requests\n",
        "from pathlib import Path\n",
        "from PIL import Image\n",
        "import random\n",
        "import numpy as np\n",
        "import matplotlib.pyplot as plt\n",
        "import os\n",
        "from timeit import default_timer as timer\n",
        "from torchvision.models import resnet34\n",
        "\n",
        "hidden_size = 32\n",
        "num_classes = 2\n",
        "NUM_EPOCHS = 50\n",
        "BATCH_SIZE = 64\n",
        "learning_rate = 0.0001\n",
        "\n",
        "image_height = 256\n",
        "image_width = 256\n",
        "input_size = image_height * image_width\n",
        "\n",
        "\n",
        "device = torch.device('cuda' if torch.cuda.is_available() else 'cpu')\n",
        "\n",
        "data_path = Path(\"/content/chest_xray\")\n",
        "\n",
        "train_dir = data_path / \"train\"\n",
        "test_dir = data_path / \"test\"\n",
        "\n",
        "print(test_dir)"
      ]
    },
    {
      "cell_type": "code",
      "execution_count": null,
      "metadata": {
        "colab": {
          "base_uri": "https://localhost:8080/"
        },
        "id": "lyFunE-q-gth",
        "outputId": "154578ae-39b5-44bb-cb80-dd80e7a6cdf0"
      },
      "outputs": [
        {
          "output_type": "execute_result",
          "data": {
            "text/plain": [
              "torch.Size([1, 256, 256])"
            ]
          },
          "metadata": {},
          "execution_count": 4
        }
      ],
      "source": [
        "image_path_list = list(data_path.glob(\"*/*/*.jpeg\"))\n",
        "\n",
        "train_transform = transforms.Compose([\n",
        "  transforms.Resize(size=(image_height, image_width)),\n",
        "  transforms.RandomRotation(degrees=35),\n",
        "  transforms.Grayscale(num_output_channels=1),\n",
        "  transforms.ToTensor()\n",
        "])\n",
        "\n",
        "test_transform = transforms.Compose([\n",
        "  transforms.Resize(size=(image_height, image_width)),\n",
        "  transforms.Grayscale(num_output_channels=1),\n",
        "  transforms.ToTensor()\n",
        "])\n",
        "\n",
        "train_data = torchvision.datasets.ImageFolder(root=train_dir,\n",
        "                                  transform=train_transform,\n",
        "                                  target_transform=None)\n",
        "\n",
        "test_data = torchvision.datasets.ImageFolder(root=test_dir,\n",
        "                                  transform=test_transform)\n",
        "\n",
        "img = train_data[0][0]\n",
        "img\n",
        "img.shape"
      ]
    },
    {
      "cell_type": "code",
      "execution_count": null,
      "metadata": {
        "id": "uelw4PK25Z_b"
      },
      "outputs": [],
      "source": [
        "NUM_WORKERS=os.cpu_count()\n",
        "\n",
        "#Oversampling to resolve Problem of imbalanced Dataset\n",
        "class_weights = [1/1342,1/3872]\n",
        "sample_weights = [0] * len(train_data)\n",
        "\n",
        "\n",
        "for i, (data, label) in enumerate(train_data):\n",
        "  sample_weights[i] = class_weights[label]\n",
        "\n",
        "sampler = torch.utils.data.WeightedRandomSampler(sample_weights,\n",
        "                                                 num_samples = len(sample_weights),\n",
        "                                                 replacement = True)\n",
        "\n",
        "\n",
        "train_dataloader = DataLoader(dataset=train_data,\n",
        "                              batch_size=BATCH_SIZE,\n",
        "                              num_workers=NUM_WORKERS,\n",
        "                              sampler = sampler)\n",
        "\n",
        "test_dataloader = DataLoader(dataset=test_data,\n",
        "                             batch_size=BATCH_SIZE,\n",
        "                             num_workers=NUM_WORKERS,\n",
        "                             shuffle=False,\n",
        "                             )\n"
      ]
    },
    {
      "cell_type": "code",
      "source": [
        "\n",
        "example_data, example_targets = next(iter(train_dataloader))\n",
        "\n",
        "for i in range(6):\n",
        "  plt.subplot(2, 3, i+1)\n",
        "  plt.imshow(example_data[i][0], cmap=\"gray\")\n",
        "  if example_targets[i].item() == 0:\n",
        "    plt.title(\"Normal\")\n",
        "  else:\n",
        "    plt.title(\"Pneumonia\")\n",
        "  plt.axis(\"off\")\n",
        "plt.show()"
      ],
      "metadata": {
        "id": "SKAdpaTgmp9Z"
      },
      "execution_count": null,
      "outputs": []
    },
    {
      "cell_type": "code",
      "execution_count": null,
      "metadata": {
        "id": "pMlVOhBlqN6Y"
      },
      "outputs": [],
      "source": [
        "# @title Standardtext für Titel\n",
        "class NeuralNet(nn.Module):\n",
        "  def __init__(self, input_size, hidden_size, output_size):\n",
        "    super(NeuralNet, self).__init__()\n",
        "    self.layer1 = nn.Sequential(\n",
        "      nn.Conv2d(in_channels = 1,\n",
        "                out_channels = 16,\n",
        "                kernel_size = 3,\n",
        "                stride = 1,\n",
        "                padding = 1),\n",
        "      nn.ReLU(),\n",
        "      nn.MaxPool2d(kernel_size = 2),\n",
        "      nn.Conv2d(in_channels = 16,\n",
        "                out_channels = 16,\n",
        "                kernel_size = 3,\n",
        "                stride = 1,\n",
        "                padding = 1),\n",
        "      nn.ReLU(),\n",
        "      nn.MaxPool2d(kernel_size = 2),\n",
        "    )\n",
        "    self.layer2 = nn.Sequential(\n",
        "      nn.Conv2d(in_channels = 16,\n",
        "                out_channels = 32,\n",
        "                kernel_size = 3,\n",
        "                stride = 1,\n",
        "                padding = 1),\n",
        "      nn.ReLU(),\n",
        "      nn.MaxPool2d(kernel_size = 2),\n",
        "      nn.Conv2d(in_channels = 32,\n",
        "                out_channels = 32,\n",
        "                kernel_size = 3,\n",
        "                stride = 1,\n",
        "                padding = 1),\n",
        "      nn.ReLU(),\n",
        "      nn.MaxPool2d(kernel_size = 2)\n",
        "    )\n",
        "\n",
        "    self.classifier = nn.Sequential(\n",
        "        nn.Dropout(p=0.5),\n",
        "        nn.Flatten(),\n",
        "        nn.Linear(in_features = 32*int((image_height/16))*int((image_width/16)),\n",
        "                  out_features = 128),\n",
        "        nn.ReLU(),\n",
        "        nn.Dropout(0.5),\n",
        "        nn.Linear(in_features = 128,\n",
        "          out_features = 128),\n",
        "        nn.ReLU(),\n",
        "        nn.Dropout(0.5),\n",
        "        nn.Linear(128, 2)\n",
        "\n",
        "    )\n",
        "\n",
        "\n",
        "  def forward(self, x):\n",
        "\n",
        "    x = self.layer1(x)\n",
        "    x = self.layer2(x)\n",
        "    x = self.classifier(x)\n",
        "    return x\n",
        "\n",
        "model = NeuralNet(input_size, hidden_size, num_classes).to(device)\n",
        "\n",
        "\n",
        "# Loss and optimizer\n",
        "loss_function = nn.CrossEntropyLoss()\n",
        "optimizer = torch.optim.Adam(model.parameters(),\n",
        "                             lr=learning_rate,\n",
        "                             weight_decay=1e-2)"
      ]
    },
    {
      "cell_type": "code",
      "execution_count": null,
      "metadata": {
        "id": "3Tbc8kYbGVaH"
      },
      "outputs": [],
      "source": [
        "def plot_loss_curves(results):\n",
        "    loss = results['train_loss']\n",
        "    test_loss = results['test_loss']\n",
        "\n",
        "    accuracy = results['train_acc']\n",
        "    test_accuracy = results['test_acc']\n",
        "\n",
        "    epochs = range(len(results['train_loss']))\n",
        "\n",
        "    plt.clf()\n",
        "\n",
        "    plt.figure(figsize=(15, 7))\n",
        "\n",
        "    plt.subplot(1, 2, 1)\n",
        "    plt.plot(epochs, loss, label='train_loss')\n",
        "    plt.plot(epochs, test_loss, label='test_loss')\n",
        "    plt.title('Loss')\n",
        "    plt.xlabel('Epochs')\n",
        "    plt.legend()\n",
        "\n",
        "    plt.subplot(1, 2, 2)\n",
        "    plt.plot(epochs, accuracy, label='train_accuracy')\n",
        "    plt.plot(epochs, test_accuracy, label='test_accuracy')\n",
        "    plt.title('Accuracy')\n",
        "    plt.xlabel('Epochs')\n",
        "    plt.legend()\n",
        "\n",
        "    plt.show()"
      ]
    },
    {
      "cell_type": "code",
      "execution_count": null,
      "metadata": {
        "id": "6lspAhzoWmgL"
      },
      "outputs": [],
      "source": [
        "def train_step(model, dataloader, loss_function, optimizer):\n",
        "  loss_acc, train_accuracy = 0, 0\n",
        "\n",
        "\n",
        "  for images, labels in dataloader:\n",
        "    images = images.to(device)\n",
        "    labels = labels.to(device)\n",
        "\n",
        "\n",
        "    labels_predict = model(images)\n",
        "\n",
        "    loss = loss_function(labels_predict, labels)\n",
        "    loss_acc += loss.item()\n",
        "\n",
        "\n",
        "    loss.backward()\n",
        "    optimizer.step()\n",
        "    optimizer.zero_grad()\n",
        "\n",
        "    train_loss = loss_acc / len(dataloader)\n",
        "\n",
        "    labels_predict_class = torch.argmax(labels_predict, dim=1)\n",
        "    train_accuracy += (labels_predict_class==labels).sum().item()/len(labels_predict)\n",
        "  loss_acc = loss_acc / len(dataloader)\n",
        "  train_accuracy = train_accuracy / len(dataloader)\n",
        "  return loss_acc, train_accuracy"
      ]
    },
    {
      "cell_type": "code",
      "execution_count": null,
      "metadata": {
        "id": "uYXhp2D8XDwi"
      },
      "outputs": [],
      "source": [
        "def test_step(model, dataloader, loss_function):\n",
        "  labels_predicted = []\n",
        "  labels_expected = []\n",
        "  with torch.no_grad():\n",
        "    n_samples = len(dataloader.dataset)\n",
        "    n_correct = 0\n",
        "    test_loss = 0\n",
        "    for images, labels in dataloader:\n",
        "      images = images.to(device)\n",
        "      labels = labels.to(device)\n",
        "\n",
        "      outputs = model(images)\n",
        "\n",
        "      loss = loss_function(outputs, labels)\n",
        "      test_loss += loss.item()\n",
        "\n",
        "      _, label_predicted = torch.max(outputs, 1)\n",
        "\n",
        "      labels_predicted.append(label_predicted)\n",
        "      labels_expected.append(labels)\n",
        "\n",
        "      boolTensor = (label_predicted == labels)\n",
        "\n",
        "      n_correct += boolTensor.sum().item()\n",
        "\n",
        "\n",
        "    accuracy = n_correct / n_samples\n",
        "    test_loss = test_loss / len(dataloader)\n",
        "\n",
        "  return test_loss, accuracy, labels_predicted, labels_expected"
      ]
    },
    {
      "cell_type": "code",
      "execution_count": null,
      "metadata": {
        "id": "d7AFbIqjp3os"
      },
      "outputs": [],
      "source": [
        "def train(model, train_dataloader, test_dataloader, optimizer, loss_function, num_epochs):\n",
        "  #animator = d2l.torch.Animator(xlabel='epoch', xlim=[1, num_epochs],\n",
        "                       # legend=['class error', 'bbox mae'])\n",
        "  results = {\"train_loss\": [],\n",
        "      \"train_acc\": [],\n",
        "      \"test_loss\": [],\n",
        "      \"test_acc\": []\n",
        "  }\n",
        "  start_time = timer()\n",
        "  for epoch in range(num_epochs):\n",
        "    loss_acc = 0\n",
        "    train_accuracy = 0\n",
        "    train_loss, train_acc = train_step(model = model,\n",
        "                                      dataloader = train_dataloader,\n",
        "                                      loss_function = loss_function,\n",
        "                                      optimizer = optimizer)\n",
        "\n",
        "    test_loss, test_acc, _, _ = test_step(model = model,\n",
        "                                    dataloader = test_dataloader,\n",
        "                                    loss_function = loss_function)\n",
        "    end_time = timer()\n",
        "    print(\n",
        "        f\"Epoch: {epoch+1} | \"\n",
        "        f\"train_loss: {train_loss:.4f} | \"\n",
        "        f\"train_acc: {train_acc:.4f} | \"\n",
        "        f\"test_loss: {test_loss:.4f} | \"\n",
        "        f\"test_acc: {test_acc:.4f} | \"\n",
        "        f\"time_total {end_time-start_time}\"\n",
        "    )\n",
        "\n",
        "    results[\"train_loss\"].append(train_loss)\n",
        "    results[\"train_acc\"].append(train_acc)\n",
        "    results[\"test_loss\"].append(test_loss)\n",
        "    results[\"test_acc\"].append(test_acc)\n",
        "\n",
        "    if (epoch+1) % 5 == 0:\n",
        "      plot_loss_curves(results)\n",
        "  return results"
      ]
    },
    {
      "cell_type": "code",
      "execution_count": null,
      "metadata": {
        "id": "th3TAUbBZx2e"
      },
      "outputs": [],
      "source": [
        "model_results = train(model = model,\n",
        "                      train_dataloader = train_dataloader,\n",
        "                      test_dataloader = test_dataloader,\n",
        "                      optimizer = optimizer,\n",
        "                      loss_function = loss_function,\n",
        "                      num_epochs = NUM_EPOCHS)\n",
        "\n",
        "plot_loss_curves(model_results)"
      ]
    },
    {
      "cell_type": "code",
      "execution_count": null,
      "metadata": {
        "id": "VK_SO11QjP27"
      },
      "outputs": [],
      "source": [
        "torchinfo.summary(model)"
      ]
    },
    {
      "cell_type": "code",
      "execution_count": null,
      "metadata": {
        "id": "RHVWuF7JApFJ"
      },
      "outputs": [],
      "source": [
        "test_loss, test_acc, labels_predicted, labels_expected = test_step(model,\n",
        "                                                                   test_dataloader,\n",
        "                                                                   loss_function)\n",
        "\n",
        "labels_expected = torch.stack(labels_expected)\n",
        "labels_predicted = torch.stack(labels_predicted)\n",
        "\n",
        "print(labels_expected)\n",
        "print(labels_predicted)"
      ]
    },
    {
      "cell_type": "code",
      "execution_count": null,
      "metadata": {
        "id": "_MyD8nLTBV07"
      },
      "outputs": [],
      "source": []
    },
    {
      "cell_type": "code",
      "execution_count": null,
      "metadata": {
        "id": "C3IrHfFg8Wai"
      },
      "outputs": [],
      "source": [
        "import seaborn\n",
        "import matplotlib.pyplot as plt\n",
        "\n",
        "confmat = ConfusionMatrix(task = \"binary\", num_classes=2).to(device)\n",
        "confmat_tensor = confmat(preds = labels_predicted,\n",
        "                         target = labels_expected)\n",
        "\n",
        "confmat_normalized = confmat_tensor/torch.sum(confmat_tensor, axis=1).reshape(-1,1)\n",
        "\n",
        "print(confmat_normalized)\n",
        "\n",
        "hm = seaborn.heatmap(confmat_normalized.cpu(),\n",
        "                annot = True,\n",
        "                cmap=\"crest\",\n",
        "                xticklabels=[\"NORMAL\",\"PNEUMONIA\"],\n",
        "                yticklabels=[\"NORMAL\",\"PNEUMONIA\"])\n",
        "plt.xlabel(\"Predicted\")\n",
        "plt.ylabel(\"ACtual\")\n",
        "plt.title(\"Confusion Matrix\")\n",
        "plt.show()"
      ]
    },
    {
      "cell_type": "code",
      "execution_count": null,
      "metadata": {
        "id": "nPxS7rMS8Yu0"
      },
      "outputs": [],
      "source": [
        "test_loss, test_accuracy, true_labels, predicted_labels = evaluate_model(h, model, test_dataloader, loss_function, device)\n",
        " plot_metrics(h, model_results, test_loss, test_accuracy, true_labels, predicted_labels)"
      ]
    }
  ],
  "metadata": {
    "accelerator": "GPU",
    "colab": {
      "provenance": [],
      "gpuType": "T4"
    },
    "kernelspec": {
      "display_name": "Python 3",
      "name": "python3"
    },
    "language_info": {
      "name": "python"
    }
  },
  "nbformat": 4,
  "nbformat_minor": 0
}